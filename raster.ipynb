{
 "cells": [
  {
   "cell_type": "code",
   "execution_count": 1,
   "id": "d65474d0",
   "metadata": {},
   "outputs": [],
   "source": [
    "import numpy as np\n",
    "import matplotlib.pyplot as plt\n",
    "from rasterio.transform import Affine\n",
    "import rasterio as rio\n",
    "import xarray as xr"
   ]
  },
  {
   "cell_type": "code",
   "execution_count": 3,
   "id": "b55f666c",
   "metadata": {},
   "outputs": [],
   "source": [
    "## read data with xarray, extract values from nc file, and assign variables\n",
    "\n",
    "data = xr.open_dataset('/home/tyler/cloud_advection/operational/data/test13.nc')\n",
    "\n",
    "ghi = data['ghi'].values\n",
    "ghi = np.asarray(ghi[0,:,:])\n",
    "\n",
    "lats = data['lat'].values\n",
    "lons = data['lon'].values"
   ]
  },
  {
   "cell_type": "code",
   "execution_count": 4,
   "id": "7af9300c",
   "metadata": {},
   "outputs": [],
   "source": [
    "## calculate transform variable to create raster data\n",
    "\n",
    "res = (lons[-1] - lons[0]) / 240.0\n",
    "transform = Affine.translation(lons[0] - res / 2, lats[0] - res / 2) * Affine.scale(res, res)"
   ]
  },
  {
   "cell_type": "code",
   "execution_count": 5,
   "id": "4604351b",
   "metadata": {},
   "outputs": [],
   "source": [
    "# open in 'write' mode, unpack profile info to dst\n",
    "## Create raster file\n",
    "\n",
    "with rio.open(\n",
    "   \"test13.tif\",\n",
    "   \"w\",\n",
    "   driver=\"GTiff\",         # output file type\n",
    "   height=ghi.shape[0],      # shape of array\n",
    "   width=ghi.shape[1],\n",
    "   count=1,                # number of bands\n",
    "   dtype=ghi.dtype,          # output datatype\n",
    "   crs=\"+proj=latlong\",    # CRS\n",
    "   transform=transform,    # location and resolution of upper left cell\n",
    ") as dst:\n",
    "   # check for number of bands\n",
    "   if dst.count == 1:\n",
    "       # write single band\n",
    "       dst.write(ghi, 1)\n",
    "   else:\n",
    "       # write each band individually\n",
    "       for band in range(len(ghi)):\n",
    "           # write data, band # (starting from 1)\n",
    "           dst.write(ghi[band], band + 1)"
   ]
  },
  {
   "cell_type": "code",
   "execution_count": null,
   "id": "cfe82a04",
   "metadata": {},
   "outputs": [],
   "source": []
  }
 ],
 "metadata": {
  "kernelspec": {
   "display_name": "Python 3 (ipykernel)",
   "language": "python",
   "name": "python3"
  },
  "language_info": {
   "codemirror_mode": {
    "name": "ipython",
    "version": 3
   },
   "file_extension": ".py",
   "mimetype": "text/x-python",
   "name": "python",
   "nbconvert_exporter": "python",
   "pygments_lexer": "ipython3",
   "version": "3.9.12"
  }
 },
 "nbformat": 4,
 "nbformat_minor": 5
}
