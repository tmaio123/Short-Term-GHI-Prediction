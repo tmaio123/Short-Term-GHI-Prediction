{
 "cells": [
  {
   "cell_type": "code",
   "execution_count": 1,
   "id": "7f78bd13",
   "metadata": {},
   "outputs": [],
   "source": [
    "import rasterio\n",
    "import rasterio.plot\n",
    "import numpy as np\n",
    "import matplotlib.pyplot as plt\n",
    "import rioxarray as xr\n",
    "import cv2 as cv\n",
    "import matplotlib"
   ]
  },
  {
   "cell_type": "code",
   "execution_count": 2,
   "id": "71315072",
   "metadata": {
    "scrolled": true
   },
   "outputs": [],
   "source": [
    "data_name1 = \"test1.tif\"\n",
    "data_name2 = \"test2.tif\"\n",
    "data_name3 = \"test3.tif\"\n",
    "data_name4 = \"test4.tif\"\n",
    "data_name5 = \"test5.tif\"\n",
    "data_name6 = \"test6.tif\"\n",
    "data_name7 = \"test7.tif\"\n",
    "data_name8 = \"test8.tif\"\n",
    "data_name9 = \"test9.tif\"\n",
    "data_name10 = \"test10.tif\"\n",
    "data_name11 = \"test11.tif\"\n",
    "data_name12 = \"test12.tif\"\n",
    "data_name13 = \"test13.tif\"\n",
    "\n",
    "\n",
    "CMAP = 'gray'\n",
    "matplotlib.rc('image', cmap=CMAP)\n",
    "\n",
    "\n",
    "\n",
    "tiff1 = rasterio.open(data_name1)\n",
    "tiff2 = rasterio.open(data_name2)\n",
    "tiff3 = rasterio.open(data_name3)\n",
    "tiff4 = rasterio.open(data_name4)\n",
    "tiff5 = rasterio.open(data_name5)\n",
    "tiff6 = rasterio.open(data_name6)\n",
    "tiff7 = rasterio.open(data_name7)\n",
    "tiff8 = rasterio.open(data_name8)\n",
    "tiff9 = rasterio.open(data_name9)\n",
    "tiff10 = rasterio.open(data_name10)\n",
    "tiff11 = rasterio.open(data_name11)\n",
    "tiff12 = rasterio.open(data_name12)\n",
    "tiff13 = rasterio.open(data_name13)\n",
    "\n",
    "\n",
    "\n",
    "\n",
    "\n",
    "\n",
    "#rasterio.plot.show(tiff1, title = \"My Data\")\n",
    "#rasterio.plot.show(tiff2, title = \"My Data\")\n",
    "\n",
    "#np.shape(tiff1)\n"
   ]
  },
  {
   "cell_type": "code",
   "execution_count": 3,
   "id": "1ce8f473",
   "metadata": {},
   "outputs": [],
   "source": [
    "a = tiff1.read(1)\n",
    "b = tiff2.read(1)\n",
    "c = tiff3.read(1)\n",
    "d = tiff4.read(1)\n",
    "e = tiff5.read(1)\n",
    "f = tiff6.read(1)\n",
    "g = tiff7.read(1)\n",
    "h = tiff8.read(1)\n",
    "i = tiff9.read(1)\n",
    "j = tiff10.read(1)\n",
    "k = tiff11.read(1)\n",
    "l = tiff12.read(1)\n",
    "m = tiff13.read(1)\n",
    "\n"
   ]
  },
  {
   "cell_type": "code",
   "execution_count": 4,
   "id": "e45ce45c",
   "metadata": {
    "scrolled": true
   },
   "outputs": [],
   "source": [
    "\n",
    "\n",
    "flow1 = cv.calcOpticalFlowFarneback(a, b, flow=None, pyr_scale=0.5, levels=3, winsize=15, iterations=10, \n",
    "    poly_n=5, poly_sigma=1.2,flags=cv.OPTFLOW_FARNEBACK_GAUSSIAN)\n",
    "\n",
    "\n",
    "flow2 = cv.calcOpticalFlowFarneback(b, c, flow=None, pyr_scale=0.5, levels=3, winsize=15, iterations=10, \n",
    "    poly_n=5, poly_sigma=1.2,flags=cv.OPTFLOW_FARNEBACK_GAUSSIAN)\n",
    "\n",
    "\n",
    "\n",
    "flow3 = cv.calcOpticalFlowFarneback(c, d, flow=None, pyr_scale=0.5, levels=3, winsize=15, iterations=10, \n",
    "    poly_n=5, poly_sigma=1.2,flags=cv.OPTFLOW_FARNEBACK_GAUSSIAN)\n",
    "\n",
    "\n",
    "flow4 = cv.calcOpticalFlowFarneback(d, e, flow=None, pyr_scale=0.5, levels=3, winsize=15, iterations=10, \n",
    "    poly_n=5, poly_sigma=1.2,flags=cv.OPTFLOW_FARNEBACK_GAUSSIAN)\n",
    "\n",
    "\n",
    "flow5 = cv.calcOpticalFlowFarneback(e, f, flow=None, pyr_scale=0.5, levels=3, winsize=15, iterations=10, \n",
    "    poly_n=5, poly_sigma=1.2,flags=cv.OPTFLOW_FARNEBACK_GAUSSIAN)\n",
    "\n",
    "\n",
    "flow6 = cv.calcOpticalFlowFarneback(f, g, flow=None, pyr_scale=0.5, levels=3, winsize=15, iterations=10, \n",
    "    poly_n=5, poly_sigma=1.2,flags=cv.OPTFLOW_FARNEBACK_GAUSSIAN)\n",
    "\n",
    "\n",
    "flow7 = cv.calcOpticalFlowFarneback(g, h, flow=None, pyr_scale=0.5, levels=3, winsize=15, iterations=10, \n",
    "    poly_n=5, poly_sigma=1.2,flags=cv.OPTFLOW_FARNEBACK_GAUSSIAN)\n",
    "\n",
    "\n",
    "flow8 = cv.calcOpticalFlowFarneback(h, i, flow=None, pyr_scale=0.5, levels=3, winsize=15, iterations=10, \n",
    "    poly_n=5, poly_sigma=1.2,flags=cv.OPTFLOW_FARNEBACK_GAUSSIAN)\n",
    "\n",
    "\n",
    "flow9 = cv.calcOpticalFlowFarneback(i, j, flow=None, pyr_scale=0.5, levels=3, winsize=15, iterations=10, \n",
    "    poly_n=5, poly_sigma=1.2,flags=cv.OPTFLOW_FARNEBACK_GAUSSIAN)\n",
    "\n",
    "\n",
    "flow10 = cv.calcOpticalFlowFarneback(j, k, flow=None, pyr_scale=0.5, levels=3, winsize=15, iterations=10, \n",
    "    poly_n=5, poly_sigma=1.2,flags=cv.OPTFLOW_FARNEBACK_GAUSSIAN)\n",
    "\n",
    "\n",
    "#flow11 = cv.calcOpticalFlowFarneback(k, l, flow=None, pyr_scale=0.5, levels=3, winsize=15, iterations=10, \n",
    "#   poly_n=5, poly_sigma=1.2,flags=cv.OPTFLOW_FARNEBACK_GAUSSIAN)\n",
    "\n",
    "\n",
    "avg = (flow1 + flow2 + flow3 + flow4 + flow5 + flow6 + flow7 + flow8 + flow9 + flow10)/10\n"
   ]
  },
  {
   "cell_type": "code",
   "execution_count": 5,
   "id": "6ba32af6",
   "metadata": {},
   "outputs": [],
   "source": [
    "def plot_flow_vectors(flow):\n",
    "    # Computes the magnitude and angle of the 2D vectors \n",
    "    magnitude, angle = cv.cartToPolar(flow[..., 0], flow[..., 1])\n",
    "\n",
    "    # Creates an image filled with zero \n",
    "    # intensities with the same dimensions  \n",
    "    # as the frame \n",
    "    hsv_shape = a.shape + (3,)\n",
    "    hsv = np.zeros(shape=hsv_shape, dtype=np.uint8) \n",
    "\n",
    "    # Sets image hue according to the optical flow  \n",
    "    # direction \n",
    "    hsv[..., 0] = angle * 180 / np.pi / 2\n",
    "\n",
    "    # Sets image saturation to maximum \n",
    "    hsv[..., 1] = 255\n",
    "\n",
    "    # Sets image value according to the optical flow \n",
    "    # magnitude (normalized) \n",
    "    hsv[..., 2] = cv.normalize(magnitude, None, 0, 255, cv.NORM_MINMAX)\n",
    "    \n",
    "    # Converts HSV to RGB (BGR) color representation \n",
    "    rgb = cv.cvtColor(hsv, cv.COLOR_HSV2BGR)\n",
    "    \n",
    "    fig = plt.figure()\n",
    "    plt.title('Optical flow field')\n",
    "    plt.imshow(rgb)\n"
   ]
  },
  {
   "cell_type": "code",
   "execution_count": 6,
   "id": "7934d3dd",
   "metadata": {
    "scrolled": false
   },
   "outputs": [
    {
     "data": {
      "image/png": "[encoded data removed]",
      "text/plain": [
       "<Figure size 640x480 with 1 Axes>"
      ]
     },
     "metadata": {},
     "output_type": "display_data"
    }
   ],
   "source": [
    "plot_flow_vectors(avg)"
   ]
  },
  {
   "cell_type": "code",
   "execution_count": 7,
   "id": "acb3aca0",
   "metadata": {},
   "outputs": [],
   "source": [
    "def remap_image(image: np.ndarray, flow: np.ndarray) -> np.ndarray:\n",
    "    \"\"\"Takes an image and warps it forwards in time according to the flow field.\n",
    "    \n",
    "    Args:\n",
    "        image: The grayscale image to warp.\n",
    "        flow: A 3D array.  The first two dimensions must be the same size as the first two\n",
    "            dimensions of the image.  The third dimension represented the x and y displacement.\n",
    "            \n",
    "    Returns:  Warped image.\n",
    "    \"\"\"\n",
    "    # Adapted from https://github.com/opencv/opencv/issues/11068\n",
    "    height, width = flow.shape[:2]\n",
    "    remap = -flow.copy()\n",
    "    remap[:,:, 0] += np.arange(width)  # x map\n",
    "    remap[:,:, 1] += np.arange(height)[:, np.newaxis]  # y map\n",
    "    return cv.remap(src=image, map1=remap, map2=None, interpolation=cv.INTER_LINEAR, borderMode=cv.BORDER_REPLICATE)"
   ]
  },
  {
   "cell_type": "code",
   "execution_count": 8,
   "id": "dddb64ac",
   "metadata": {
    "scrolled": false
   },
   "outputs": [],
   "source": [
    "remapped_image = remap_image(k, avg)"
   ]
  },
  {
   "cell_type": "code",
   "execution_count": 9,
   "id": "a74f412d",
   "metadata": {
    "scrolled": true
   },
   "outputs": [
    {
     "data": {
      "text/plain": [
       "<matplotlib.image.AxesImage at 0x7f6367a19b80>"
      ]
     },
     "execution_count": 9,
     "metadata": {},
     "output_type": "execute_result"
    },
    {
     "data": {
      "image/png": "[encoded data removed]",
      "text/plain": [
       "<Figure size 640x480 with 1 Axes>"
      ]
     },
     "metadata": {},
     "output_type": "display_data"
    }
   ],
   "source": [
    "plt.figure()\n",
    "\n",
    "plt.imshow(remapped_image, cmap='Greys')\n",
    "\n",
    "plt.imshow(m, cmap=\"Greys\")"
   ]
  },
  {
   "cell_type": "code",
   "execution_count": 10,
   "id": "f5c5edba",
   "metadata": {},
   "outputs": [],
   "source": [
    "#flow11 = cv.calcOpticalFlowFarneback(k, remapped_image, flow=None, pyr_scale=0.5, levels=3, winsize=15, iterations=10, \n",
    "#  poly_n=5, poly_sigma=1.2,flags=cv.OPTFLOW_FARNEBACK_GAUSSIAN)\n",
    "\n",
    "\n",
    "#avg = (flow1 + flow2 + flow3 + flow4 + flow5 + flow6 + flow7 + flow8 + flow9 + flow10 + flow11)/11\n",
    "\n",
    "\n",
    "\n",
    "\n"
   ]
  },
  {
   "cell_type": "code",
   "execution_count": 11,
   "id": "dc3ece4a",
   "metadata": {},
   "outputs": [],
   "source": [
    "remapped_image1 = remap_image(remapped_image, avg)"
   ]
  },
  {
   "cell_type": "code",
   "execution_count": 12,
   "id": "cd0113ca",
   "metadata": {},
   "outputs": [
    {
     "data": {
      "text/plain": [
       "array([[162.7    , 162.70001, 162.70001, 162.70001, 156.53691, 158.5    ,\n",
       "        158.5    ],\n",
       "       [162.7    , 162.7    , 162.7    , 162.70001, 156.36621, 158.5    ,\n",
       "        158.5    ],\n",
       "       [162.7    , 162.7    , 162.7    , 162.70001, 156.28085, 158.5    ,\n",
       "        158.5    ],\n",
       "       [161.65898, 161.55487, 161.97128, 162.7    , 156.14297, 158.5    ,\n",
       "        158.5    ],\n",
       "       [188.4    , 188.4    , 188.4    , 187.54716, 150.25928, 146.78828,\n",
       "        146.09375],\n",
       "       [188.4    , 188.4    , 188.4    , 188.4    , 161.27032, 150.53516,\n",
       "        147.8336 ],\n",
       "       [188.4    , 188.4    , 188.4    , 188.4    , 161.27032, 151.5    ,\n",
       "        151.5    ]], dtype=float32)"
      ]
     },
     "execution_count": 12,
     "metadata": {},
     "output_type": "execute_result"
    }
   ],
   "source": [
    "remapped_image1"
   ]
  },
  {
   "cell_type": "code",
   "execution_count": null,
   "id": "af38d3d2",
   "metadata": {},
   "outputs": [],
   "source": []
  }
 ],
 "metadata": {
  "kernelspec": {
   "display_name": "Python 3 (ipykernel)",
   "language": "python",
   "name": "python3"
  },
  "language_info": {
   "codemirror_mode": {
    "name": "ipython",
    "version": 3
   },
   "file_extension": ".py",
   "mimetype": "text/x-python",
   "name": "python",
   "nbconvert_exporter": "python",
   "pygments_lexer": "ipython3",
   "version": "3.9.12"
  }
 },
 "nbformat": 4,
 "nbformat_minor": 5
}
