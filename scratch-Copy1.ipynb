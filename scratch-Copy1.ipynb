{
 "cells": [
  {
   "cell_type": "code",
   "execution_count": 1,
   "id": "7f78bd13",
   "metadata": {},
   "outputs": [],
   "source": [
    "import rasterio\n",
    "import rasterio.plot\n",
    "import numpy as np\n",
    "import matplotlib.pyplot as plt\n",
    "import rioxarray as xr\n",
    "import cv2 as cv\n",
    "import matplotlib"
   ]
  },
  {
   "cell_type": "code",
   "execution_count": 2,
   "id": "71315072",
   "metadata": {
    "scrolled": true
   },
   "outputs": [],
   "source": [
    "data_name1 = \"test1.tif\"\n",
    "data_name2 = \"test2.tif\"\n",
    "data_name3 = \"test3.tif\"\n",
    "data_name4 = \"test4.tif\"\n",
    "data_name5 = \"test5.tif\"\n",
    "data_name6 = \"test6.tif\"\n",
    "data_name7 = \"test7.tif\"\n",
    "data_name8 = \"test8.tif\"\n",
    "data_name9 = \"test9.tif\"\n",
    "data_name10 = \"test10.tif\"\n",
    "data_name11 = \"test11.tif\"\n",
    "data_name12 = \"test12.tif\"\n",
    "data_name13 = \"test13.tif\"\n",
    "\n",
    "\n",
    "CMAP = 'gray'\n",
    "matplotlib.rc('image', cmap=CMAP)\n",
    "\n",
    "\n",
    "\n",
    "tiff1 = rasterio.open(data_name1)\n",
    "tiff2 = rasterio.open(data_name2)\n",
    "tiff3 = rasterio.open(data_name3)\n",
    "tiff4 = rasterio.open(data_name4)\n",
    "tiff5 = rasterio.open(data_name5)\n",
    "tiff6 = rasterio.open(data_name6)\n",
    "tiff7 = rasterio.open(data_name7)\n",
    "tiff8 = rasterio.open(data_name8)\n",
    "tiff9 = rasterio.open(data_name9)\n",
    "tiff10 = rasterio.open(data_name10)\n",
    "tiff11 = rasterio.open(data_name11)\n",
    "tiff12 = rasterio.open(data_name12)\n",
    "tiff13 = rasterio.open(data_name13)\n",
    "\n",
    "\n",
    "\n",
    "\n",
    "\n",
    "\n",
    "#rasterio.plot.show(tiff1, title = \"My Data\")\n",
    "#rasterio.plot.show(tiff2, title = \"My Data\")\n",
    "\n",
    "#np.shape(tiff1)\n"
   ]
  },
  {
   "cell_type": "code",
   "execution_count": 3,
   "id": "1ce8f473",
   "metadata": {},
   "outputs": [],
   "source": [
    "a = tiff1.read(1)\n",
    "b = tiff2.read(1)\n",
    "c = tiff3.read(1)\n",
    "d = tiff4.read(1)\n",
    "e = tiff5.read(1)\n",
    "f = tiff6.read(1)\n",
    "g = tiff7.read(1)\n",
    "h = tiff8.read(1)\n",
    "i = tiff9.read(1)\n",
    "j = tiff10.read(1)\n",
    "k = tiff11.read(1)\n",
    "l = tiff12.read(1)\n",
    "m = tiff13.read(1)\n",
    "\n"
   ]
  },
  {
   "cell_type": "code",
   "execution_count": 4,
   "id": "e45ce45c",
   "metadata": {
    "scrolled": true
   },
   "outputs": [],
   "source": [
    "\n",
    "\n",
    "flow1 = cv.calcOpticalFlowFarneback(a, b, flow=None, pyr_scale=0.5, levels=3, winsize=15, iterations=10, \n",
    "    poly_n=5, poly_sigma=1.2,flags=cv.OPTFLOW_FARNEBACK_GAUSSIAN)\n",
    "\n",
    "\n",
    "flow2 = cv.calcOpticalFlowFarneback(b, c, flow=None, pyr_scale=0.5, levels=3, winsize=15, iterations=10, \n",
    "    poly_n=5, poly_sigma=1.2,flags=cv.OPTFLOW_FARNEBACK_GAUSSIAN)\n",
    "\n",
    "\n",
    "\n",
    "flow3 = cv.calcOpticalFlowFarneback(c, d, flow=None, pyr_scale=0.5, levels=3, winsize=15, iterations=10, \n",
    "    poly_n=5, poly_sigma=1.2,flags=cv.OPTFLOW_FARNEBACK_GAUSSIAN)\n",
    "\n",
    "\n",
    "flow4 = cv.calcOpticalFlowFarneback(d, e, flow=None, pyr_scale=0.5, levels=3, winsize=15, iterations=10, \n",
    "    poly_n=5, poly_sigma=1.2,flags=cv.OPTFLOW_FARNEBACK_GAUSSIAN)\n",
    "\n",
    "\n",
    "flow5 = cv.calcOpticalFlowFarneback(e, f, flow=None, pyr_scale=0.5, levels=3, winsize=15, iterations=10, \n",
    "    poly_n=5, poly_sigma=1.2,flags=cv.OPTFLOW_FARNEBACK_GAUSSIAN)\n",
    "\n",
    "\n",
    "flow6 = cv.calcOpticalFlowFarneback(f, g, flow=None, pyr_scale=0.5, levels=3, winsize=15, iterations=10, \n",
    "    poly_n=5, poly_sigma=1.2,flags=cv.OPTFLOW_FARNEBACK_GAUSSIAN)\n",
    "\n",
    "\n",
    "flow7 = cv.calcOpticalFlowFarneback(g, h, flow=None, pyr_scale=0.5, levels=3, winsize=15, iterations=10, \n",
    "    poly_n=5, poly_sigma=1.2,flags=cv.OPTFLOW_FARNEBACK_GAUSSIAN)\n",
    "\n",
    "\n",
    "flow8 = cv.calcOpticalFlowFarneback(h, i, flow=None, pyr_scale=0.5, levels=3, winsize=15, iterations=10, \n",
    "    poly_n=5, poly_sigma=1.2,flags=cv.OPTFLOW_FARNEBACK_GAUSSIAN)\n",
    "\n",
    "\n",
    "flow9 = cv.calcOpticalFlowFarneback(i, j, flow=None, pyr_scale=0.5, levels=3, winsize=15, iterations=10, \n",
    "    poly_n=5, poly_sigma=1.2,flags=cv.OPTFLOW_FARNEBACK_GAUSSIAN)\n",
    "\n",
    "\n",
    "flow10 = cv.calcOpticalFlowFarneback(j, k, flow=None, pyr_scale=0.5, levels=3, winsize=15, iterations=10, \n",
    "    poly_n=5, poly_sigma=1.2,flags=cv.OPTFLOW_FARNEBACK_GAUSSIAN)\n",
    "\n",
    "\n",
    "#flow11 = cv.calcOpticalFlowFarneback(k, l, flow=None, pyr_scale=0.5, levels=3, winsize=15, iterations=10, \n",
    "#   poly_n=5, poly_sigma=1.2,flags=cv.OPTFLOW_FARNEBACK_GAUSSIAN)\n",
    "\n",
    "\n",
    "avg = (flow1 + flow2 + flow3 + flow4 + flow5 + flow6)/6\n"
   ]
  },
  {
   "cell_type": "code",
   "execution_count": 5,
   "id": "6ba32af6",
   "metadata": {},
   "outputs": [],
   "source": [
    "\n",
    "def plot_flow_vectors(flow):\n",
    "    # Computes the magnitude and angle of the 2D vectors \n",
    "    magnitude, angle = cv.cartToPolar(flow[..., 0], flow[..., 1])\n",
    "\n",
    "    # Creates an image filled with zero \n",
    "    # intensities with the same dimensions  \n",
    "    # as the frame \n",
    "    hsv_shape = a.shape + (3,)\n",
    "    hsv = np.zeros(shape=hsv_shape, dtype=np.uint8) \n",
    "\n",
    "    # Sets image hue according to the optical flow  \n",
    "    # direction \n",
    "    hsv[..., 0] = angle * 180 / np.pi / 2\n",
    "\n",
    "    # Sets image saturation to maximum \n",
    "    hsv[..., 1] = 255\n",
    "\n",
    "    # Sets image value according to the optical flow \n",
    "    # magnitude (normalized) \n",
    "    hsv[..., 2] = cv.normalize(magnitude, None, 0, 255, cv.NORM_MINMAX)\n",
    "    \n",
    "    # Converts HSV to RGB (BGR) color representation \n",
    "    rgb = cv.cvtColor(hsv, cv.COLOR_HSV2BGR)\n",
    "    \n",
    "    fig = plt.figure()\n",
    "    plt.title('Optical flow field')\n",
    "    plt.imshow(rgb)\n"
   ]
  },
  {
   "cell_type": "code",
   "execution_count": 6,
   "id": "7934d3dd",
   "metadata": {
    "scrolled": true
   },
   "outputs": [
    {
     "data": {
      "image/png": "[encoded data removed]",
      "text/plain": [
       "<Figure size 640x480 with 1 Axes>"
      ]
     },
     "metadata": {},
     "output_type": "display_data"
    }
   ],
   "source": [
    "\n",
    "plot_flow_vectors(avg)"
   ]
  },
  {
   "cell_type": "code",
   "execution_count": 7,
   "id": "acb3aca0",
   "metadata": {},
   "outputs": [],
   "source": [
    "def remap_image(image: np.ndarray, flow: np.ndarray) -> np.ndarray:\n",
    "    \"\"\"Takes an image and warps it forwards in time according to the flow field.\n",
    "    \n",
    "    Args:\n",
    "        image: The grayscale image to warp.\n",
    "        flow: A 3D array.  The first two dimensions must be the same size as the first two\n",
    "            dimensions of the image.  The third dimension represented the x and y displacement.\n",
    "            \n",
    "    Returns:  Warped image.\n",
    "    \"\"\"\n",
    "    # Adapted from https://github.com/opencv/opencv/issues/11068\n",
    "    height, width = flow.shape[:2]\n",
    "    remap = -flow.copy()\n",
    "    remap[:,:, 0] += np.arange(width)  # x map\n",
    "    remap[:,:, 1] += np.arange(height)[:, np.newaxis]  # y map\n",
    "    return cv.remap(src=image, map1=remap, map2=None, interpolation=cv.INTER_LINEAR, borderMode=cv.BORDER_REPLICATE)"
   ]
  },
  {
   "cell_type": "code",
   "execution_count": 8,
   "id": "dddb64ac",
   "metadata": {
    "scrolled": false
   },
   "outputs": [],
   "source": [
    "remapped_image = remap_image(g, avg)"
   ]
  },
  {
   "cell_type": "code",
   "execution_count": 9,
   "id": "dc3ece4a",
   "metadata": {
    "scrolled": true
   },
   "outputs": [
    {
     "name": "stdout",
     "output_type": "stream",
     "text": [
      "[[245.5     245.5     245.5     241.84375 234.75    237.89998 237.9    ]\n",
      " [245.5     245.5     245.5     242.45312 234.225   237.89998 237.9    ]\n",
      " [245.5     244.63751 238.88751 243.81876 255.1     236.3125  236.3125 ]\n",
      " [246.17499 245.925   246.05    256.65625 248.46074 229.23438 229.78125]\n",
      " [224.      224.      224.      224.15001 224.82832 236.7625  234.04999]\n",
      " [224.      224.      224.      224.09999 219.3     232.29999 232.29999]\n",
      " [224.      224.      224.      224.125   219.3     232.3     232.3    ]]\n",
      "[[242.8 242.8 243.8 238.  238.  235.1 235.1]\n",
      " [226.2 218.  218.  239.3 244.6 244.6 243.9]\n",
      " [224.9 216.4 211.9 211.9 219.4 219.4 223.4]\n",
      " [216.4 216.4 211.9 219.4 219.4 214.5 214.5]\n",
      " [211.1 228.6 228.6 228.6 214.5 214.5 217. ]\n",
      " [217.  224.1 225.8 225.8 225.1 225.1 218. ]\n",
      " [217.8 217.8 221.6 226.4 226.4 219.7 219.7]]\n"
     ]
    }
   ],
   "source": [
    "print(remapped_image)\n",
    "print(h)"
   ]
  },
  {
   "cell_type": "code",
   "execution_count": 10,
   "id": "bcb349a4",
   "metadata": {
    "scrolled": false
   },
   "outputs": [
    {
     "name": "stdout",
     "output_type": "stream",
     "text": [
      "256.65625 219.4\n"
     ]
    }
   ],
   "source": [
    "print(remapped_image[3,3],h[3,3])"
   ]
  },
  {
   "cell_type": "code",
   "execution_count": 11,
   "id": "762d7ea4",
   "metadata": {
    "scrolled": true
   },
   "outputs": [
    {
     "name": "stdout",
     "output_type": "stream",
     "text": [
      "[[245.5     245.5     245.5     245.5     234.84843 237.9     237.9    ]\n",
      " [245.5     245.5     245.5     245.5     235.63672 237.9     237.9    ]\n",
      " [245.5     245.5     245.5     245.10582 243.66632 237.30469 237.3543 ]\n",
      " [224.      224.      224.      224.      238.73457 229.71289 231.41406]\n",
      " [224.      224.      224.      224.      224.09903 232.75885 233.50311]\n",
      " [224.      224.      224.      224.      224.07422 232.3     232.3    ]\n",
      " [224.      224.      224.      224.      224.0625  232.3     232.30002]] [[227.5 227.5 208.8 202.8 202.8 205.4 205.4]\n",
      " [228.8 224.7 224.7 201.6 203.7 203.7 204.5]\n",
      " [211.6 227.8 207.5 207.5 203.8 203.8 201.1]\n",
      " [227.8 227.8 207.5 203.8 203.8 206.5 206.5]\n",
      " [227.6 216.4 216.4 204.5 206.5 206.5 202.1]\n",
      " [225.4 225.4 206.  206.  203.  203.  224.7]\n",
      " [202.2 202.2 205.2 202.8 202.8 224.7 224.7]]\n",
      "224.0 203.8\n"
     ]
    }
   ],
   "source": [
    "new_flow_1 = cv.calcOpticalFlowFarneback(g, remapped_image, flow=None, pyr_scale=0.5, levels=3, winsize=15, iterations=10, \n",
    "    poly_n=5, poly_sigma=1.2,flags=cv.OPTFLOW_FARNEBACK_GAUSSIAN)\n",
    "\n",
    "\n",
    "avg = (flow1 + flow2 + flow3 + flow4 + flow5 + flow6 + new_flow_1)/7\n",
    "\n",
    "\n",
    "\n",
    "remapped_image1 = remap_image(remapped_image, avg)\n",
    "\n",
    "print(remapped_image1,i)\n",
    "print(remapped_image1[3,3],i[3,3])"
   ]
  },
  {
   "cell_type": "code",
   "execution_count": 12,
   "id": "50c49556",
   "metadata": {},
   "outputs": [
    {
     "name": "stdout",
     "output_type": "stream",
     "text": [
      "[[245.5     245.5     245.5     245.5     235.13452 237.9     237.9    ]\n",
      " [245.5     245.5     245.5     245.5     235.18129 237.9     237.9    ]\n",
      " [245.5     245.5     245.5     245.5     241.80482 237.61008 237.62714]\n",
      " [224.      224.      224.      224.      226.23509 231.28818 232.34222]\n",
      " [224.      224.      224.      224.      224.      232.46017 233.08955]\n",
      " [224.      224.      224.      224.      224.      232.30002 232.30002]\n",
      " [224.      224.      224.      224.      224.      232.30002 232.30002]] [[193.8 193.8 193.9 192.6 192.6 194.6 194.6]\n",
      " [208.2 215.3 215.3 191.9 189.  189.  193.9]\n",
      " [214.8 218.7 214.2 214.2 207.2 207.2 195.8]\n",
      " [218.7 218.7 214.2 207.2 207.2 207.2 207.2]\n",
      " [207.3 218.9 218.9 220.2 207.2 207.2 191.5]\n",
      " [220.5 221.3 215.4 215.4 217.6 217.6 191.1]\n",
      " [215.5 215.5 217.9 194.3 194.3 192.9 192.9]]\n",
      "224.0 207.2\n"
     ]
    }
   ],
   "source": [
    "new_flow_2 = cv.calcOpticalFlowFarneback(remapped_image, remapped_image1, flow=None, pyr_scale=0.5, levels=3, winsize=15, iterations=10, \n",
    "    poly_n=5, poly_sigma=1.2,flags=cv.OPTFLOW_FARNEBACK_GAUSSIAN)\n",
    "\n",
    "\n",
    "\n",
    "\n",
    "avg = (flow1 + flow2 + flow3 + flow4 + flow5 + flow6 + new_flow_1 + new_flow_2)/8\n",
    "\n",
    "\n",
    "remapped_image2 = remap_image(remapped_image1, avg)\n",
    "\n",
    "print(remapped_image2,j)\n",
    "print(remapped_image2[3,3],j[3,3])"
   ]
  },
  {
   "cell_type": "code",
   "execution_count": 13,
   "id": "4f4651bf",
   "metadata": {},
   "outputs": [
    {
     "name": "stdout",
     "output_type": "stream",
     "text": [
      "[[245.5     245.5     245.5     245.5     235.56664 237.9     237.9    ]\n",
      " [245.5     245.5     245.5     245.5     235.22377 237.9     237.9    ]\n",
      " [245.5     245.5     245.5     245.5     240.64774 237.74652 237.75504]\n",
      " [224.      224.      224.      224.      224.48892 232.13205 233.00284]\n",
      " [224.      224.      224.      224.      224.      232.41382 232.84282]\n",
      " [224.      224.      224.      224.      224.      232.30002 232.30002]\n",
      " [224.      224.      224.      224.      224.      232.30002 232.30002]] [[162.7 162.7 183.2 154.7 154.7 158.5 158.5]\n",
      " [169.9 179.4 179.4 152.4 154.6 154.6 145.3]\n",
      " [151.9 175.8 183.2 183.2 152.8 152.8 145.3]\n",
      " [175.8 175.8 183.2 152.8 152.8 151.5 151.5]\n",
      " [175.4 164.9 164.9 161.9 151.5 151.5 139.4]\n",
      " [181.3 189.  181.5 181.5 163.1 163.1 141.1]\n",
      " [188.4 188.4 188.4 166.3 166.3 151.5 151.5]]\n",
      "224.0 152.8\n"
     ]
    }
   ],
   "source": [
    "new_flow_3 = cv.calcOpticalFlowFarneback(remapped_image1, remapped_image2, flow=None, pyr_scale=0.5, levels=3, winsize=15, iterations=10, \n",
    "    poly_n=5, poly_sigma=1.2,flags=cv.OPTFLOW_FARNEBACK_GAUSSIAN)\n",
    "\n",
    "\n",
    "\n",
    "avg1 = (flow1 + flow2 + flow3 + flow4 + flow5 + flow6 + new_flow_1 + new_flow_2 + new_flow_3)/9\n",
    "\n",
    "\n",
    "\n",
    "\n",
    "remapped_image3 = remap_image(remapped_image2, avg1)\n",
    "\n",
    "print(remapped_image3,k)\n",
    "print(remapped_image3[3,3],k[3,3])"
   ]
  },
  {
   "cell_type": "code",
   "execution_count": null,
   "id": "e379fd63",
   "metadata": {},
   "outputs": [],
   "source": []
  },
  {
   "cell_type": "code",
   "execution_count": null,
   "id": "cbcf8cdc",
   "metadata": {},
   "outputs": [],
   "source": []
  }
 ],
 "metadata": {
  "kernelspec": {
   "display_name": "Python 3 (ipykernel)",
   "language": "python",
   "name": "python3"
  },
  "language_info": {
   "codemirror_mode": {
    "name": "ipython",
    "version": 3
   },
   "file_extension": ".py",
   "mimetype": "text/x-python",
   "name": "python",
   "nbconvert_exporter": "python",
   "pygments_lexer": "ipython3",
   "version": "3.9.12"
  }
 },
 "nbformat": 4,
 "nbformat_minor": 5
}
