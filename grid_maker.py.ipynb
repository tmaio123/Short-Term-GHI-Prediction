{
 "cells": [
  {
   "cell_type": "code",
   "execution_count": 19,
   "metadata": {},
   "outputs": [],
   "source": [
    "import numpy as np\n",
    "import matplotlib.pyplot as plt\n",
    "import pandas as pd\n",
    "import requests\n",
    "from datetime import datetime\n",
    "import xarray as xr\n",
    "import sys\n",
    "import netCDF4 as nc\n",
    "from rasterio.transform import Affine\n",
    "import rasterio as rio"
   ]
  },
  {
   "cell_type": "code",
   "execution_count": 20,
   "metadata": {},
   "outputs": [],
   "source": [
    "api_auth = '/home/tyler/.api_request'\n",
    "url = \"https://forecasting.energy.arizona.edu/erebos/series/adjghi\""
   ]
  },
  {
   "cell_type": "code",
   "execution_count": 21,
   "metadata": {},
   "outputs": [],
   "source": [
    "def grid_maker(central_lon=None, central_lat=None, year=None, month=None, day=None, second_index=None):\n",
    "    \n",
    "    latz = []\n",
    "    lonz = []\n",
    "    \n",
    "    for i in range(0,9):\n",
    "        if 0 <= i < 4:\n",
    "            dalats_S = central_lat - (0.009 * i) \n",
    "            dalons_E = central_lon + (0.009 * i)\n",
    "            latz.append(dalats_S)\n",
    "            lonz.append(dalons_E)\n",
    "        if i == 4:\n",
    "            latz.append(central_lat)\n",
    "            lonz.append(central_lon)\n",
    "        if i >= 5:\n",
    "            dalats_N = central_lat + (0.009 * i)\n",
    "            dalons_W = central_lon - (0.009 * i)\n",
    "            latz.append(dalats_N)\n",
    "            lonz.append(dalons_W)\n",
    "    \n",
    "    ghi_array = []\n",
    "    \n",
    "    print(\"Part 1 is done\")\n",
    "    \n",
    "    for i in range(len(latz)):\n",
    "        for j in range(len(lonz)):\n",
    "            args = {'run_date':'{0}-{1}-{2}'.format(year,month,day), \n",
    "                    'lon':'{}'.format(lonz[j]),\n",
    "                    'lat':'{}'.format(latz[i]),\n",
    "                    'precipitable_water':'1.00',\n",
    "                    'aod700':'0.05'}\n",
    "            with open(api_auth) as f:\n",
    "                auth_text = f.read()\n",
    "            auth_tuple = tuple(auth_text.split('\\n'))[:2]\n",
    "            x = requests.get(url, params=args, auth=auth_tuple)\n",
    "            df = pd.DataFrame(x.json())\n",
    "            time = np.arange(0,288,1)\n",
    "            ghi = df['results'].squeeze().values\n",
    "            ghi_array.append(ghi[second_index])\n",
    "            \n",
    "    ghi1 = np.asarray(ghi_array)\n",
    "    latz = np.asarray(latz)\n",
    "    lonz = np.asarray(lonz)\n",
    "     \n",
    "    filename = 'erebos_grid_{0}-{1}-{2}_{3}.nc'.format(year,month,day,second_index)\n",
    "    \n",
    "    ghi1 = ghi1.reshape(9,9)\n",
    "    \n",
    "    ds = nc.Dataset(filename, 'w', format='NETCDF4')\n",
    "    \n",
    "    time = ds.createDimension('time', None)\n",
    "    lat = ds.createDimension('lat', 9)\n",
    "    lon = ds.createDimension('lon', 9)\n",
    "    \n",
    "    times = ds.createVariable('time', 'f4', ('time',))\n",
    "    lats = ds.createVariable('lat', 'f4', ('lat'))\n",
    "    lons = ds.createVariable('lon', 'f4', ('lon'))\n",
    "    ghi = ds.createVariable('ghi', 'f4', ('time', 'lat', 'lon',))\n",
    "    ghi.units = 'Unknown'\n",
    "    \n",
    "    lats[:] = latz\n",
    "    lons[:] = lonz\n",
    "    \n",
    "    ghi[0, :, :] = ghi1\n",
    "    \n",
    "    ds.close()\n",
    "    \n",
    "    print(\"Part 2 is done\")\n",
    "    \n",
    "    ## read data with xarray, extract values from nc file, and assign variables\n",
    "\n",
    "    data = xr.open_dataset('/home/tyler/cloud_advection/operational/{}'.format(filename))\n",
    "\n",
    "    ghi = data['ghi'].values\n",
    "    ghi = np.asarray(ghi[0,:,:])\n",
    "\n",
    "    lats = data['lat'].values\n",
    "    lons = data['lon'].values\n",
    "    \n",
    "    \n",
    "    ## calculate transform variable to create raster data\n",
    "\n",
    "    res = (lons[-1] - lons[0]) / 240.0\n",
    "    transform = Affine.translation(lons[0] - res / 2, lats[0] - res / 2) * Affine.scale(res, res)\n",
    "    \n",
    "    \n",
    "    # open in 'write' mode, unpack profile info to dst\n",
    "    ## Create raster file\n",
    "\n",
    "    with rio.open(\n",
    "       'erebos_grid_{0}-{1}-{2}_{3}.tif'.format(year,month,day,second_index),\n",
    "       \"w\",\n",
    "       driver=\"GTiff\",         # output file type\n",
    "       height=ghi.shape[0],      # shape of array\n",
    "       width=ghi.shape[1],\n",
    "       count=1,                # number of bands\n",
    "       dtype=ghi.dtype,          # output datatype\n",
    "       crs=\"+proj=latlong\",    # CRS\n",
    "       transform=transform,    # location and resolution of upper left cell\n",
    "    ) as dst:\n",
    "       # check for number of bands\n",
    "       if dst.count == 1:\n",
    "           # write single band\n",
    "           dst.write(ghi, 1)\n",
    "       else:\n",
    "           # write each band individually\n",
    "           for band in range(len(ghi)):\n",
    "               # write data, band # (starting from 1)\n",
    "               dst.write(ghi[band], band + 1)\n",
    "            \n",
    "    return \"Job is Done\"\n"
   ]
  },
  {
   "cell_type": "code",
   "execution_count": 23,
   "metadata": {
    "scrolled": true
   },
   "outputs": [
    {
     "name": "stdout",
     "output_type": "stream",
     "text": [
      "Part 1 is done\n",
      "Part 2 is done\n"
     ]
    },
    {
     "data": {
      "text/plain": [
       "'Job is Done'"
      ]
     },
     "execution_count": 23,
     "metadata": {},
     "output_type": "execute_result"
    }
   ],
   "source": [
    "grid_maker(central_lon=-110.95534, central_lat=32.22969, year='2021', month='07', day='11', second_index=0)"
   ]
  },
  {
   "cell_type": "code",
   "execution_count": null,
   "metadata": {},
   "outputs": [
    {
     "name": "stdout",
     "output_type": "stream",
     "text": [
      "Part 1 is done\n",
      "Part 2 is done\n",
      "Part 1 is done\n",
      "Part 2 is done\n",
      "Part 1 is done\n"
     ]
    }
   ],
   "source": [
    "for i in range(1,10):\n",
    "    grid_maker(central_lon=-110.95534, central_lat=32.22969, year='2021', month='07', day='11', second_index=i)\n",
    "    \n"
   ]
  },
  {
   "cell_type": "code",
   "execution_count": null,
   "metadata": {},
   "outputs": [],
   "source": []
  }
 ],
 "metadata": {
  "kernelspec": {
   "display_name": "Python 3 (ipykernel)",
   "language": "python",
   "name": "python3"
  },
  "language_info": {
   "codemirror_mode": {
    "name": "ipython",
    "version": 3
   },
   "file_extension": ".py",
   "mimetype": "text/x-python",
   "name": "python",
   "nbconvert_exporter": "python",
   "pygments_lexer": "ipython3",
   "version": "3.9.12"
  }
 },
 "nbformat": 4,
 "nbformat_minor": 2
}
