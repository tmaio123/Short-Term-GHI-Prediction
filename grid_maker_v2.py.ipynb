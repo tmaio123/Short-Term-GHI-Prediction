{
 "cells": [
  {
   "cell_type": "code",
   "execution_count": 1,
   "metadata": {},
   "outputs": [],
   "source": [
    "import numpy as np\n",
    "import matplotlib.pyplot as plt\n",
    "import pandas as pd\n",
    "import requests\n",
    "from datetime import datetime\n",
    "import xarray as xr\n",
    "import sys\n",
    "import netCDF4 as nc\n",
    "from rasterio.transform import Affine\n",
    "import rasterio as rio\n",
    "import datetime as dt\n",
    "from netCDF4 import date2num,num2date"
   ]
  },
  {
   "cell_type": "code",
   "execution_count": 2,
   "metadata": {},
   "outputs": [],
   "source": [
    "#api_auth = '/home/tyler/.api_request'\n",
    "api_auth = '/home/patrick/.api_user_pass'\n",
    "url = \"https://forecasting.energy.arizona.edu/erebos/series/adjghi\"\n",
    "path = \"/home/patrick/git_repos/Short-Term-GHI-Prediction/\""
   ]
  },
  {
   "cell_type": "code",
   "execution_count": 3,
   "metadata": {},
   "outputs": [],
   "source": [
    "##### Below is the function for developing a 9x9 grid of ghi estimated values from EREBOS \n",
    "\n",
    "## central_lon: longitude of the location in which you are forecasting\n",
    "## central_lat: latitude of the location in which you are forecasting \n",
    "## year: the year of the forecast date/time\n",
    "## month: the month of the forecast date/time\n",
    "## day: the day of the forecast date/time\n",
    "## hour: the (initital) hour of the forecast date/time\n",
    "## minute_start: the starting minute of the forecast date/time (needs to be 2,7,12,17,22,27,32,37,42,47,52,57 only)\n",
    "## minute_end: the ending minute of the forecast date/time (needs to be 2,7,12,17,22,27,32,37,42,47,52,57 only)\n",
    "## new_hour: set to false, however when true will reset the minutes and add an hour once the loop is greater than 57 mins.\n",
    "\n",
    "\n",
    "##### Work flow\n",
    "### Part 1 of the function:\n",
    "## a 9x9 grid of latitude and longitude is created which will be centered around the central lats and lons specified \n",
    "\n",
    "### Part 2 of the function:\n",
    "## a double for loop is used to loop through all 81 lat lon grid points\n",
    "## an API request is sent using the year, month, day, lat, and lon arguments specified\n",
    "## ghi values are obtained at all lat lon points and appended into a pandas dataframe\n",
    "## start and end dates are created based off of the year, month, day, hour, and mins specified\n",
    "## if new_hour is true, the hour is increased by 1 for the end date\n",
    "## the dataframe is then sliced based off of the start and end dates specified\n",
    "## the rest of part 2 is creating a netcdf (nc) file of the data\n",
    "\n",
    "### Part 3 of the function:\n",
    "## all that is done in this part is taking the data from the netcdf file and creating a raster file "
   ]
  },
  {
   "cell_type": "code",
   "execution_count": 7,
   "metadata": {},
   "outputs": [],
   "source": [
    "def grid_maker(central_lon=None, central_lat=None, tznow=None, grid_size=None, images_num=None):\n",
    "    \"\"\"\n",
    "    \n",
    "    Function to set up grid around forecast site and retrieve \n",
    "    timeseries erobos data for each point on the grid\n",
    "    \n",
    "    Parameters\n",
    "    ----------\n",
    "    central_lon : float\n",
    "        longitude for central point of forecast domain\n",
    "    central_lat : float\n",
    "        latitude for central point of forecast domain\n",
    "    tznow : str\n",
    "        date and time to initilize forecast\n",
    "    grid_size : int\n",
    "        size of grid to make around central lat,lon. Must be \n",
    "        an odd number\n",
    "    images_num : number of Erebos \"images\" used to lookback \n",
    "        and make forecast with. Approximately one GOES image \n",
    "        per 5 minute period. Default should be about 6 images\n",
    "        equating to ~30 mins.\n",
    "    \n",
    "    Returns\n",
    "    ----------\n",
    "    \n",
    "    Array of ghi images, \n",
    "    datetime index for each image,\n",
    "    latitudes of grid,\n",
    "    longitudes of grid\n",
    "            \n",
    "    \"\"\"\n",
    "    dx = 0.009    # defined by erobos horizontal resolution, 0.0009 degrees\n",
    "    dy = 0.009    \n",
    "    lons = np.arange(central_lon-int(grid_size/2)*dx, central_lon+int(grid_size/2)*dx, dx)\n",
    "    lats = np.arange(central_lat-int(grid_size/2)*dy, central_lat+int(grid_size/2)*dy, dy)             \n",
    "    print('dimensions should match', grid_size, len(lats))\n",
    "          \n",
    "    req_end   = pd.Timestamp(tznow)\n",
    "    req_start = req_end - pd.Timedelta(str(images_num*5)+'T')\n",
    "    \n",
    "    print(req_start,req_end)\n",
    "\n",
    "    ghi_array = np.empty((images_num,grid_size,grid_size))\n",
    "    \n",
    "    for i in range(len(lats)):\n",
    "        for j in range(len(lons)):\n",
    "            args = {'run_date':'{0}-{1}-{2}'.format(req_start.year,req_start.month,req_start.day), \n",
    "                    'lon':'{}'.format(lons[j]),\n",
    "                    'lat':'{}'.format(lats[i]),\n",
    "                    'precipitable_water':'1.00',\n",
    "                    'aod700':'0.05'}\n",
    "            with open(api_auth) as f:\n",
    "                auth_text = f.read()\n",
    "            auth_tuple = tuple(auth_text.split('\\n'))[:2]\n",
    "            req = requests.get(url, params=args, auth=auth_tuple)\n",
    "            \n",
    "            df = pd.DataFrame(req.json())\n",
    "            df.index = pd.to_datetime(df.index)\n",
    "            \n",
    "            subset = df.loc[req_start:req_end]\n",
    "            index = subset.index\n",
    "            ghi_array[:,i,j] = subset['results']\n",
    "\n",
    "    return ghi_array, index, lons, lats"
   ]
  },
  {
   "cell_type": "code",
   "execution_count": 8,
   "metadata": {},
   "outputs": [
    {
     "name": "stdout",
     "output_type": "stream",
     "text": [
      "dimensions should match 9 9\n",
      "2020-03-01 18:12:00+00:00 2020-03-01 18:42:00+00:00\n"
     ]
    }
   ],
   "source": [
    "ghi_array, index, lons, lats = grid_maker(central_lon=-112.965, central_lat=32.915, \n",
    "                              tznow='2020-03-01 T18:42Z', \n",
    "                              grid_size=9, images_num=6)"
   ]
  },
  {
   "cell_type": "code",
   "execution_count": 29,
   "metadata": {},
   "outputs": [],
   "source": [
    "def create_tiffs(ghi_array, index, lons, lats):\n",
    "        \n",
    "    ## calculate transform variable to create raster data\n",
    "\n",
    "    res = (lons[-1] - lons[0]) / 240.0\n",
    "    transform = Affine.translation(lons[0] - res / 2, lats[0] - res / 2) * Affine.scale(res, res)\n",
    "    \n",
    "    # open in 'write' mode, unpack profile info to dst\n",
    "    ## Create raster file\n",
    "    for t in range(len(ghi_array[:,0,0])):\n",
    "        ghi_image = ghi_array[t,:,:]\n",
    "        with rio.open(\n",
    "           'erebos_grid_'+index[t].strftime('%Y-%m-%d_%H_%M')+'.tiff',\n",
    "           \"w\",\n",
    "           driver=\"GTiff\",         # output file type\n",
    "           height=ghi_image.shape[0],      # shape of array\n",
    "           width=ghi_image.shape[1],\n",
    "           count=1,                # number of bands\n",
    "           dtype=ghi_image.dtype,          # output datatype\n",
    "           crs=\"+proj=latlong\",    # CRS\n",
    "           transform=transform,    # location and resolution of upper left cell\n",
    "        ) as dst:\n",
    "           # check for number of bands\n",
    "           if dst.count == 1:\n",
    "               # write single band\n",
    "               dst.write(ghi_image, 1)\n",
    "           else:\n",
    "               # write each band individually\n",
    "               for band in range(len(ghi_image)):\n",
    "                   # write data, band # (starting from 1)\n",
    "                   dst.write(ghi_image[band], band + 1)\n",
    "          \n",
    "    return \"tiff files created\""
   ]
  },
  {
   "cell_type": "code",
   "execution_count": 30,
   "metadata": {
    "scrolled": true
   },
   "outputs": [
    {
     "data": {
      "text/plain": [
       "'tiff files created'"
      ]
     },
     "execution_count": 30,
     "metadata": {},
     "output_type": "execute_result"
    }
   ],
   "source": [
    "create_tiffs(ghi_array, index, lons, lats)"
   ]
  },
  {
   "cell_type": "code",
   "execution_count": 20,
   "metadata": {},
   "outputs": [
    {
     "data": {
      "image/png": "[encoded data removed]",
      "text/plain": [
       "<Figure size 640x480 with 1 Axes>"
      ]
     },
     "metadata": {},
     "output_type": "display_data"
    }
   ],
   "source": [
    "plt.pcolormesh(ghi_array[0,:,:])\n",
    "plt.show()"
   ]
  },
  {
   "cell_type": "code",
   "execution_count": 32,
   "metadata": {},
   "outputs": [],
   "source": [
    "tiff1 = rio.open('/home/patrick/git_repos/Short-Term-GHI-Prediction/erebos_grid_2020-03-01_18_12.tiff')\n",
    "file1 = tiff1.read(1)"
   ]
  },
  {
   "cell_type": "code",
   "execution_count": 34,
   "metadata": {},
   "outputs": [
    {
     "data": {
      "text/plain": [
       "<matplotlib.collections.QuadMesh at 0x7f8ddac3b690>"
      ]
     },
     "execution_count": 34,
     "metadata": {},
     "output_type": "execute_result"
    },
    {
     "data": {
      "image/png": "[encoded data removed]",
      "text/plain": [
       "<Figure size 640x480 with 1 Axes>"
      ]
     },
     "metadata": {},
     "output_type": "display_data"
    }
   ],
   "source": [
    "plt.pcolormesh(file1)\n"
   ]
  },
  {
   "cell_type": "code",
   "execution_count": null,
   "metadata": {},
   "outputs": [],
   "source": []
  }
 ],
 "metadata": {
  "kernelspec": {
   "display_name": "Python [conda env:short_term_ghi_fx]",
   "language": "python",
   "name": "conda-env-short_term_ghi_fx-py"
  },
  "language_info": {
   "codemirror_mode": {
    "name": "ipython",
    "version": 3
   },
   "file_extension": ".py",
   "mimetype": "text/x-python",
   "name": "python",
   "nbconvert_exporter": "python",
   "pygments_lexer": "ipython3",
   "version": "3.7.13"
  }
 },
 "nbformat": 4,
 "nbformat_minor": 4
}
